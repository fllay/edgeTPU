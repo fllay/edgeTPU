{
 "cells": [
  {
   "cell_type": "code",
   "execution_count": 1,
   "metadata": {},
   "outputs": [],
   "source": [
    "import os\n",
    "from edgetpu.basic.basic_engine import BasicEngine\n",
    "from edgetpu.classification.engine import ClassificationEngine\n",
    "from edgetpu.learn.imprinting.engine import ImprintingEngine\n",
    "import numpy as np\n",
    "from PIL import Image"
   ]
  },
  {
   "cell_type": "code",
   "execution_count": 2,
   "metadata": {},
   "outputs": [],
   "source": [
    "def _ReadData(path, test_ratio):\n",
    "  \"\"\"Parses data from given directory, split them into two sets.\n",
    "\n",
    "  Args:\n",
    "    path: string, path of the data set. Images are stored in sub-directory\n",
    "      named by category.\n",
    "    test_ratio: float in (0,1), ratio of data used for testing.\n",
    "\n",
    "  Returns:\n",
    "    (train_set, test_set), A tuple of two dicts. Keys are the categories and\n",
    "      values are lists of image file names.\n",
    "  \"\"\"\n",
    "  train_set = {}\n",
    "  test_set = {}\n",
    "  for category in os.listdir(path):\n",
    "    category_dir = os.path.join(path, category)\n",
    "    if os.path.isdir(category_dir):\n",
    "      images = [f for f in os.listdir(category_dir)\n",
    "                if os.path.isfile(os.path.join(category_dir, f))]\n",
    "      if images:\n",
    "        k = int(test_ratio * len(images))\n",
    "        test_set[category] = images[:k]\n",
    "        assert test_set[category], 'No images to test [{}]'.format(category)\n",
    "        train_set[category] = images[k:]\n",
    "        assert train_set[category], 'No images to train [{}]'.format(category)\n",
    "  return train_set, test_set"
   ]
  },
  {
   "cell_type": "code",
   "execution_count": 3,
   "metadata": {},
   "outputs": [],
   "source": [
    "def _PrepareImages(image_list, directory, shape):\n",
    "  \"\"\"Reads images and converts them to numpy array with given shape.\n",
    "\n",
    "  Args:\n",
    "    image_list: a list of strings storing file names.\n",
    "    directory: string, path of directory storing input images.\n",
    "    shape: a 2-D tuple represents the shape of required input tensor.\n",
    "\n",
    "  Returns:\n",
    "    A list of numpy.array.\n",
    "  \"\"\"\n",
    "  ret = []\n",
    "  for filename in image_list:\n",
    "    with Image.open(os.path.join(directory, filename)) as img:\n",
    "      img = img.resize(shape, Image.NEAREST)\n",
    "      ret.append(np.asarray(img).flatten())\n",
    "  return np.array(ret)\n"
   ]
  },
  {
   "cell_type": "code",
   "execution_count": 4,
   "metadata": {},
   "outputs": [],
   "source": [
    "def _SaveLabels(labels, model_path):\n",
    "  \"\"\"Output labels as a txt file.\n",
    "\n",
    "  Args:\n",
    "    labels: {int : string}, map between label id and label.\n",
    "    model_path: string, path of the model.\n",
    "  \"\"\"\n",
    "  label_file_name = model_path.replace('.tflite', '.txt')\n",
    "  with open(label_file_name, 'w') as f:\n",
    "    for label_id, label in labels.items():\n",
    "      f.write(str(label_id) + '  ' + label + '\\n')\n",
    "  print('Labels file saved as :', label_file_name)"
   ]
  },
  {
   "cell_type": "code",
   "execution_count": 5,
   "metadata": {},
   "outputs": [],
   "source": [
    "def _GetRequiredShape(model_path):\n",
    "  \"\"\"Gets image shape required by model.\n",
    "\n",
    "  Args:\n",
    "    model_path: string, path of the model.\n",
    "\n",
    "  Returns:\n",
    "    (width, height).\n",
    "  \"\"\"\n",
    "  tmp = BasicEngine(model_path)\n",
    "  input_tensor = tmp.get_input_tensor_shape()\n",
    "  return (input_tensor[2], input_tensor[1])\n",
    "\n"
   ]
  },
  {
   "cell_type": "code",
   "execution_count": 14,
   "metadata": {},
   "outputs": [],
   "source": [
    "data_path = '/home/mendel/trainImage/flower_photos'\n",
    "test_ratio = 0.95\n",
    "extractor = '/home/mendel/trainImage/mobilenet_v1_1.0_224_quant_embedding_extractor_edgetpu.tflite'\n",
    "output = '/home/mendel/trainImage/flower_model.tflite'"
   ]
  },
  {
   "cell_type": "code",
   "execution_count": 15,
   "metadata": {},
   "outputs": [
    {
     "name": "stdout",
     "output_type": "stream",
     "text": [
      "Image list successfully parsed! Category Num =  5\n",
      "---------------- Processing training data ----------------\n",
      "This process may take more than 30 seconds.\n",
      "Processing category: dandelion\n",
      "Processing category: daisy\n",
      "Processing category: tulips\n",
      "Processing category: roses\n",
      "Processing category: sunflowers\n",
      "----------------      Start training     -----------------\n",
      "----------------     Training finished!  -----------------\n",
      "Model saved as :  /home/mendel/trainImage/flower_model.tflite\n",
      "Labels file saved as : /home/mendel/trainImage/flower_model.txt\n"
     ]
    }
   ],
   "source": [
    "train_set, test_set = _ReadData(data_path, test_ratio)\n",
    "\n",
    "print('Image list successfully parsed! Category Num = ', len(train_set))\n",
    "shape = _GetRequiredShape(extractor)\n",
    "\n",
    "print('---------------- Processing training data ----------------')\n",
    "print('This process may take more than 30 seconds.')\n",
    "train_input = {}\n",
    "for category, image_list in train_set.items():\n",
    "    print('Processing category:', category)\n",
    "    train_input[category] = _PrepareImages(\n",
    "        image_list, os.path.join(data_path, category), shape)\n",
    "\n",
    "print('----------------      Start training     -----------------')\n",
    "engine = ImprintingEngine(extractor)\n",
    "labels_map = engine.TrainAll(train_input)\n",
    "print('----------------     Training finished!  -----------------')\n",
    "\n",
    "engine.SaveModel(output)\n",
    "print('Model saved as : ', output)\n",
    "_SaveLabels(labels_map, output)\n"
   ]
  },
  {
   "cell_type": "code",
   "execution_count": null,
   "metadata": {},
   "outputs": [],
   "source": []
  }
 ],
 "metadata": {
  "kernelspec": {
   "display_name": "Python 3",
   "language": "python",
   "name": "python3"
  },
  "language_info": {
   "codemirror_mode": {
    "name": "ipython",
    "version": 3
   },
   "file_extension": ".py",
   "mimetype": "text/x-python",
   "name": "python",
   "nbconvert_exporter": "python",
   "pygments_lexer": "ipython3",
   "version": "3.5.3"
  }
 },
 "nbformat": 4,
 "nbformat_minor": 2
}
