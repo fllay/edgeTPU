{
 "cells": [
  {
   "cell_type": "code",
   "execution_count": 1,
   "metadata": {},
   "outputs": [],
   "source": [
    "from IPython.display import display\n",
    "from IPython.display import clear_output\n",
    "\n",
    "from imutils.video import VideoStream\n",
    "import imutils\n",
    "\n",
    "import time\n",
    "import numpy as np\n",
    "import cv2\n",
    "import IPython\n",
    "import io\n",
    "\n",
    "from edgetpu.detection.engine import DetectionEngine\n",
    "from PIL import Image\n",
    "from PIL import ImageDraw\n",
    "\n",
    "%matplotlib inline\n",
    "import matplotlib.pyplot as plt\n",
    "\n",
    "from time import sleep\n",
    "import multiprocessing as mp"
   ]
  },
  {
   "cell_type": "code",
   "execution_count": 2,
   "metadata": {},
   "outputs": [],
   "source": [
    "processes = []\n",
    "frameBuffer = None\n",
    "results = None"
   ]
  },
  {
   "cell_type": "code",
   "execution_count": 3,
   "metadata": {},
   "outputs": [],
   "source": [
    "def showarray(a, fmt='jpeg'):\n",
    "    f = io.BytesIO()\n",
    "    #Image.fromarray(a).save(f, fmt)\n",
    "    a.save(f, fmt)\n",
    "    IPython.display.display(IPython.display.Image(data=f.getvalue()))"
   ]
  },
  {
   "cell_type": "code",
   "execution_count": 4,
   "metadata": {},
   "outputs": [],
   "source": [
    "# Function to read labels from text files.\n",
    "def ReadLabelFile(file_path):\n",
    "  with open(file_path, 'r') as f:\n",
    "    lines = f.readlines()\n",
    "  ret = {}\n",
    "  for line in lines:\n",
    "    pair = line.strip().split(maxsplit=1)\n",
    "    ret[int(pair[0])] = pair[1].strip()\n",
    "  return ret"
   ]
  },
  {
   "cell_type": "code",
   "execution_count": null,
   "metadata": {},
   "outputs": [],
   "source": []
  },
  {
   "cell_type": "code",
   "execution_count": 5,
   "metadata": {},
   "outputs": [],
   "source": [
    "def camThread(label, results, frameBuffer):\n",
    "\n",
    "    camera_width = 320\n",
    "    camera_height = 240\n",
    "    vidfps = 30\n",
    "\n",
    "    cam = cv2.VideoCapture(0)\n",
    "    #cam = cv2.VideoCapture(get_camerasrc(0), cv2.CAP_GSTREAMER)\n",
    "\n",
    "    #cam.set(cv2.CAP_PROP_FPS, vidfps)\n",
    "    #cam.set(cv2.CAP_PROP_FRAME_WIDTH, camera_width)\n",
    "    #cam.set(cv2.CAP_PROP_FRAME_HEIGHT, camera_height)\n",
    "\n",
    "    #cam = cv2.VideoCapture('rkisp device=/dev/video1 io-mode=4 path-iqf=/etc/cam_iq/ov13850.xml ! video/x-raw,format=NV12,width=740 ,height=360,framerate=30/1 ! videoconvert ! appsink', cv2.CAP_GSTREAMER)\n",
    "\n",
    "\n",
    "    while True:\n",
    "        try:\n",
    "            t1 = time.perf_counter()\n",
    "\n",
    "            ret, color_image = cam.read()\n",
    "            if not ret:\n",
    "                print(\"no image\")\n",
    "                continue\n",
    "            if frameBuffer.full():\n",
    "                frameBuffer.get()\n",
    "            frames = color_image\n",
    "            frameBuffer.put(color_image.copy())\n",
    "            res = None\n",
    "        except BaseException as e: \n",
    "            print(\"Exiting\")\n",
    "            print(e)\n",
    "        except (KeyboardInterrupt, SystemExit):\n",
    "            print(\"Camera release\")\n",
    "            cam.release() \n",
    "            break\n",
    "            \n"
   ]
  },
  {
   "cell_type": "code",
   "execution_count": 6,
   "metadata": {},
   "outputs": [],
   "source": [
    "\n",
    "\n",
    "def inferencer(results, frameBuffer, labels):\n",
    "\n",
    "    #engine = DetectionEngine(model)\n",
    "    print(\"Hello!!!!\")\n",
    "    engine = DetectionEngine('/home/mendel/TPU-MobilenetSSD/mobilenet_ssd_v2_coco_quant_postprocess_edgetpu.tflite')\n",
    "    \n",
    "    while True:\n",
    "\n",
    "        if frameBuffer.empty():\n",
    "            continue\n",
    "       \n",
    "        # Run inference.\n",
    "        color_image = frameBuffer.get()\n",
    "        prepimg = color_image[:, :, ::-1].copy()\n",
    "        prepimg = Image.fromarray(prepimg)\n",
    "        draw = ImageDraw.Draw(prepimg)\n",
    "        tinf = time.perf_counter()\n",
    "        #print(\"Hello detect !!!!\")\n",
    "        t1 = time.time()\n",
    "        out = engine.DetectWithImage(prepimg, threshold=0.5, keep_aspect_ratio=True, relative_coord=False, top_k=10)\n",
    "        if out:\n",
    "            for obj in out:\n",
    "                #print ('-----------------------------------------')\n",
    "                #if labels:\n",
    "                #    print(labels[obj.label_id])\n",
    "                #print ('score = ', obj.score)\n",
    "                box = obj.bounding_box.flatten().tolist()\n",
    "                #print ('box = ', box)\n",
    "                # Draw a rectangle.\n",
    "                draw.rectangle(box, outline='red')\n",
    "                if labels:\n",
    "                    draw.text((box[0] + (box[2]-box[0]), box[1]), labels[obj.label_id] , fill='green')\n",
    "            \n",
    "        t2 = time.time()\n",
    "        fps = 1/(t2-t1)\n",
    "        fps_str = 'FPS = %.2f' % fps\n",
    "        draw.text((10,220), fps_str , fill='green')\n",
    "        #imcv = np.asarray(prepimg)[:,:,::-1].copy()\n",
    "        #if results.full():\n",
    "        #    results.get()\n",
    "        #results = color_image\n",
    "        #results.put(imcv)\n",
    "        \n",
    "        showarray(prepimg)\n",
    "        clear_output(wait=True)\n",
    "        #print(\"Hello detect !!!!\")\n",
    "        #print(time.perf_counter() - tinf, \"sec\")\n",
    "        #results.put(ans)"
   ]
  },
  {
   "cell_type": "code",
   "execution_count": 7,
   "metadata": {},
   "outputs": [
    {
     "data": {
      "image/jpeg": "[encoded data removed]",
      "text/plain": [
       "<IPython.core.display.Image object>"
      ]
     },
     "metadata": {},
     "output_type": "display_data"
    },
    {
     "name": "stderr",
     "output_type": "stream",
     "text": [
      "Process Process-2:\n"
     ]
    },
    {
     "ename": "KeyboardInterrupt",
     "evalue": "",
     "output_type": "error",
     "traceback": [
      "\u001b[0;31m---------------------------------------------------------------------------\u001b[0m",
      "\u001b[0;31mKeyboardInterrupt\u001b[0m                         Traceback (most recent call last)",
      "\u001b[0;32m<ipython-input-7-fd7faf94dfc9>\u001b[0m in \u001b[0;36m<module>\u001b[0;34m\u001b[0m\n\u001b[1;32m     30\u001b[0m \u001b[0;34m\u001b[0m\u001b[0m\n\u001b[1;32m     31\u001b[0m     \u001b[0;32mwhile\u001b[0m \u001b[0;32mTrue\u001b[0m\u001b[0;34m:\u001b[0m\u001b[0;34m\u001b[0m\u001b[0m\n\u001b[0;32m---> 32\u001b[0;31m         \u001b[0msleep\u001b[0m\u001b[0;34m(\u001b[0m\u001b[0;36m1\u001b[0m\u001b[0;34m)\u001b[0m\u001b[0;34m\u001b[0m\u001b[0m\n\u001b[0m\u001b[1;32m     33\u001b[0m \u001b[0;34m\u001b[0m\u001b[0m\n\u001b[1;32m     34\u001b[0m \u001b[0;32mfinally\u001b[0m\u001b[0;34m:\u001b[0m\u001b[0;34m\u001b[0m\u001b[0m\n",
      "\u001b[0;31mKeyboardInterrupt\u001b[0m: "
     ]
    }
   ],
   "source": [
    "# Initialize engine.\n",
    "labels = ReadLabelFile('/home/mendel/TPU-MobilenetSSD/coco_labels.txt') \n",
    "# Run inference.\n",
    "\n",
    "\n",
    "try:\n",
    "    frameBuffer = mp.Queue(10)\n",
    "    results = mp.Queue(10)\n",
    "\n",
    "    # Start streaming\n",
    "    p = mp.Process(target=camThread, args=(labels, results, frameBuffer), daemon=True)\n",
    "    p.start()\n",
    "    processes.append(p)\n",
    "\n",
    "\n",
    "    # Activation of inferencer\n",
    "    p = mp.Process(target=inferencer, args=(results, frameBuffer, labels), daemon=True)\n",
    "    p.start()\n",
    "    processes.append(p)\n",
    "    \n",
    "    \n",
    "\n",
    "    \"\"\"GObject.threads_init()\n",
    "    Gst.init(None)\n",
    "\n",
    "    server = GstServer(buffer1=results)\n",
    "\n",
    "    loop = GObject.MainLoop()\n",
    "    loop.run()\"\"\"\n",
    "\n",
    "    while True:\n",
    "        sleep(1)\n",
    "\n",
    "finally:\n",
    "    for p in range(len(processes)):\n",
    "        processes[p].terminate()\n"
   ]
  },
  {
   "cell_type": "code",
   "execution_count": null,
   "metadata": {},
   "outputs": [],
   "source": [
    "import utils.inference as inference_utils"
   ]
  },
  {
   "cell_type": "code",
   "execution_count": null,
   "metadata": {},
   "outputs": [],
   "source": []
  }
 ],
 "metadata": {
  "kernelspec": {
   "display_name": "Python 3",
   "language": "python",
   "name": "python3"
  },
  "language_info": {
   "codemirror_mode": {
    "name": "ipython",
    "version": 3
   },
   "file_extension": ".py",
   "mimetype": "text/x-python",
   "name": "python",
   "nbconvert_exporter": "python",
   "pygments_lexer": "ipython3",
   "version": "3.5.3"
  }
 },
 "nbformat": 4,
 "nbformat_minor": 2
}
